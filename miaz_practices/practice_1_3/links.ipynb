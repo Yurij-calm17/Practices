{
 "cells": [
  {
   "cell_type": "markdown",
   "metadata": {},
   "source": [
    "[Bratak](https://github.com/LYUBA26/student111.git)\n",
    "\n",
    "[Kordic](https://github.com/Kordic5202/-)\n",
    "\n",
    "[Parashchyk](https://github.com/Sergiy5202/Student11)\n",
    "\n",
    "[Hodilenko](https://github.com/14Hodilenko88/Vlad-is-love)\n",
    "\n",
    "[Mogylevsky](https://github.com/mrn83-5202/Roman-MOGYLEVSKYI)\n",
    "\n"
   ]
  }
 ],
 "metadata": {
  "language_info": {
   "name": "python"
  }
 },
 "nbformat": 4,
 "nbformat_minor": 2
}
