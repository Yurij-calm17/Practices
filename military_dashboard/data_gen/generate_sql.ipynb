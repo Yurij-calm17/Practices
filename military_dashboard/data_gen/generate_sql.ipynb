{
 "cells": [
  {
   "cell_type": "code",
   "execution_count": 1,
   "metadata": {},
   "outputs": [
    {
     "name": "stdout",
     "output_type": "stream",
     "text": [
      "✔ SQL-файл створено.\n"
     ]
    }
   ],
   "source": [
    "import json, random\n",
    "from datetime import datetime, timedelta\n",
    "\n",
    "# Завантаження конфігурації\n",
    "with open(\"var1.json\", \"r\") as file:\n",
    "    battle_config = json.load(file)\n",
    "\n",
    "start_date = datetime.today() - timedelta(days=730)\n",
    "end_date = datetime.today()\n",
    "current_date = start_date\n",
    "locations = list(battle_config.keys())\n",
    "sql_statements = []\n",
    "\n",
    "while current_date <= end_date:\n",
    "    for location in locations:\n",
    "        config = battle_config[location]\n",
    "        ammo = random.randint(*config[\"ammo_used\"])\n",
    "        loss_pers = random.randint(*config[\"enemy_losses_personnel\"])\n",
    "        loss_eq = random.randint(*config[\"enemy_losses_equipment\"])\n",
    "        \n",
    "        sql = f\"\"\"INSERT INTO battle_reports (date, location, ammo_used, enemy_losses_personnel, enemy_losses_equipment)\n",
    "        VALUES ('{current_date.date()}', '{location}', {ammo}, {loss_pers}, {loss_eq});\"\"\"\n",
    "        sql_statements.append(sql)\n",
    "    current_date += timedelta(days=1)\n",
    "\n",
    "with open(\"insert_battle_reports.sql\", \"w\") as f:\n",
    "    f.write(\"\\n\".join(sql_statements))\n",
    "\n",
    "print(\"✔ SQL-файл створено.\")\n"
   ]
  }
 ],
 "metadata": {
  "kernelspec": {
   "display_name": "Python 3",
   "language": "python",
   "name": "python3"
  },
  "language_info": {
   "codemirror_mode": {
    "name": "ipython",
    "version": 3
   },
   "file_extension": ".py",
   "mimetype": "text/x-python",
   "name": "python",
   "nbconvert_exporter": "python",
   "pygments_lexer": "ipython3",
   "version": "3.11.9"
  }
 },
 "nbformat": 4,
 "nbformat_minor": 2
}
